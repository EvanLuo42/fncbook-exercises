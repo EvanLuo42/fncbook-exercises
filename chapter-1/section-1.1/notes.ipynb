{
 "cells": [
  {
   "cell_type": "markdown",
   "metadata": {},
   "source": [
    "# Floatin-point Numbers"
   ]
  },
  {
   "cell_type": "markdown",
   "metadata": {},
   "source": [
    "## Definition 1.1.1\n",
    "\n",
    "The set $\\mathbb{F}$ of **floating-point numbers** consists of zero and all numbers of the form\n",
    "\n",
    "$$\\pm (1 + f) \\times 2^n$$\n",
    "\n",
    "where $n$ is an integer called the **exponent**, and $1 + f$ is the **significand**, in which\n",
    "\n",
    "$$f = \\sum_{i = 1}^d b_i 2^{-i}, \\space b_i \\in \\{0, 1\\}$$\n",
    "\n",
    "for a fixed integer $d$ called the binary **precision**."
   ]
  },
  {
   "cell_type": "markdown",
   "metadata": {},
   "source": []
  },
  {
   "cell_type": "markdown",
   "metadata": {},
   "source": [
    "### Note\n",
    "\n",
    "This definition can be understand through borrowing the concept of scientific notation we use in decimal system like\n",
    "\n",
    "$$1.32 \\times 10^{-5} = 0.0000132$$\n",
    "\n",
    "I will use an example of decimal $3.3$ to show how to write any decimal in the form mentioned in the definition.\n",
    "\n",
    "**Step 1: Turn the whole numbers part into binary**\n",
    "\n",
    "In this case, the whole numbers part is $3$, so we need to write $3$ in binary form, which is\n",
    "\n",
    "$$3_10 = 11_2$$\n",
    "\n",
    "**Step 2: Turn the decimal part into binary**\n",
    "\n",
    "Consider a decimal $x$ in decimal system, its binary representation is\n",
    "\n",
    "$$x = b_1 \\times 2^{-1} + b_2 \\times 2^{-2} + b_3 \\times 2^{-3} + \\dots$$\n",
    "\n",
    "where $b_i$ is each digit of this binary decimal and $b_i \\in \\{0, 1\\}$.\n",
    "\n",
    "Now we want to extract each $b_i$ from $x$. To achieve this, we can multiply $x$ by $2$ for many times\n",
    "\n",
    "$$2x = b_1 + b_2 \\times 2^{-1} + b_3 \\times 2^{-2} + \\dots$$\n",
    "\n",
    "Observed that $b_1$ is extracted from $x$. Then we just need to take out $b_1$ and do it again on $2x$.\n",
    "\n",
    "Here is the exact steps in this case\n",
    "\n",
    "$$\n",
    "0.3 \\times 2 = 0.6 \\longrightarrow 0 \\\\\n",
    "0.6 \\times 2 = 1.2 \\longrightarrow 1 \\\\\n",
    "0.2 \\times 2 = 0.4 \\longrightarrow 0 \\\\\n",
    "0.4 \\times 2 = 0.8 \\longrightarrow 0 \\\\\n",
    "0.8 \\times 2 = 1.6 \\longrightarrow 1\n",
    "$$\n",
    "\n",
    "Here we notice that the decimal returned to $0.6$, so sometimes a finite decimal can't be convert to a finite decimal in binary. In this case, the decimal part is\n",
    "\n",
    "$$0.3_{10} = 0.\\overline{0100}$$\n",
    "\n",
    "**Step 3: Add decimal and whole number part together**\n",
    "\n",
    "In this case, the result is\n",
    "\n",
    "$$11.\\overline{0100}_2$$\n",
    "\n",
    "**Step 4: Convert into scientific notation**\n",
    "\n",
    "$$11.\\overline{0100}_2 \\approx 1.0100_2 \\times 2^1$$\n",
    "\n",
    "The significand ($1 + f$) is $1 + 0.0100_2$. The exponent ($n$) is $1$."
   ]
  },
  {
   "cell_type": "code",
   "execution_count": 1,
   "metadata": {},
   "outputs": [
    {
     "name": "stdout",
     "output_type": "stream",
     "text": [
      "p = 22 / 7 = 3.142857142857143\n"
     ]
    },
    {
     "data": {
      "text/plain": [
       "3.142857142857143"
      ]
     },
     "metadata": {},
     "output_type": "display_data"
    }
   ],
   "source": [
    "@show p = 22 / 7"
   ]
  },
  {
   "cell_type": "code",
   "execution_count": 2,
   "metadata": {},
   "outputs": [
    {
     "name": "stdout",
     "output_type": "stream",
     "text": [
      "float(π) = 3.141592653589793\n"
     ]
    },
    {
     "data": {
      "text/plain": [
       "3.141592653589793"
      ]
     },
     "metadata": {},
     "output_type": "display_data"
    }
   ],
   "source": [
    "@show float(π)"
   ]
  },
  {
   "cell_type": "code",
   "execution_count": null,
   "metadata": {},
   "outputs": [
    {
     "name": "stdout",
     "output_type": "stream",
     "text": [
      "Absoluate accuracy =  0.0012644892673496777\n",
      "Relative accuracy = 0.0004024994347707008\n",
      "Number of accurate digits = 3.3952347251747166\n"
     ]
    }
   ],
   "source": [
    "acc = abs(π - p)\n",
    "println(\"Absoluate accuracy =  $acc\")\n",
    "println(\"Relative accuracy = $(acc / π)\")\n",
    "println(\"Number of accurate digits = $(-log10(acc / π))\")"
   ]
  },
  {
   "cell_type": "code",
   "execution_count": 6,
   "metadata": {},
   "outputs": [
    {
     "name": "stdout",
     "output_type": "stream",
     "text": [
      "bitstring(x) = \"0011111111110000000000000000000000000000000000000000000000000000\"\n",
      "bitstring(y) = \"0100000000000000000000000000000000000000000000000000000000000000\"\n",
      "(sign(x), exponent(x), significand(x)) = (1.0, 0, 1.0)\n",
      "(sign(y), exponent(y), significand(y)) = (1.0, 1, 1.0)\n"
     ]
    },
    {
     "data": {
      "text/plain": [
       "(1.0, 1, 1.0)"
      ]
     },
     "metadata": {},
     "output_type": "display_data"
    }
   ],
   "source": [
    "x = 1.0\n",
    "y = 2.0\n",
    "@show bitstring(x)\n",
    "@show bitstring(y)\n",
    "@show sign(x), exponent(x), significand(x)\n",
    "@show sign(y), exponent(y), significand(y)"
   ]
  }
 ],
 "metadata": {
  "kernelspec": {
   "display_name": "Julia 1.11.3",
   "language": "julia",
   "name": "julia-1.11"
  },
  "language_info": {
   "file_extension": ".jl",
   "mimetype": "application/julia",
   "name": "julia",
   "version": "1.11.3"
  }
 },
 "nbformat": 4,
 "nbformat_minor": 2
}
