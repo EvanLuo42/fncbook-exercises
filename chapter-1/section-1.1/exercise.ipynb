{
 "cells": [
  {
   "cell_type": "code",
   "execution_count": 1,
   "metadata": {},
   "outputs": [
    {
     "name": "stdout",
     "output_type": "stream",
     "text": [
      "p = 22 / 7 = 3.142857142857143\n"
     ]
    },
    {
     "data": {
      "text/plain": [
       "3.142857142857143"
      ]
     },
     "metadata": {},
     "output_type": "display_data"
    }
   ],
   "source": [
    "@show p = 22 / 7"
   ]
  },
  {
   "cell_type": "code",
   "execution_count": 2,
   "metadata": {},
   "outputs": [
    {
     "name": "stdout",
     "output_type": "stream",
     "text": [
      "float(π) = 3.141592653589793\n"
     ]
    },
    {
     "data": {
      "text/plain": [
       "3.141592653589793"
      ]
     },
     "metadata": {},
     "output_type": "display_data"
    }
   ],
   "source": [
    "@show float(π)"
   ]
  },
  {
   "cell_type": "code",
   "execution_count": null,
   "metadata": {},
   "outputs": [
    {
     "name": "stdout",
     "output_type": "stream",
     "text": [
      "Absoluate accuracy =  0.0012644892673496777\n",
      "Relative accuracy = 0.0004024994347707008\n",
      "Number of accurate digits = 3.3952347251747166\n"
     ]
    }
   ],
   "source": [
    "acc = abs(π - p)\n",
    "println(\"Absoluate accuracy =  $acc\")\n",
    "println(\"Relative accuracy = $(acc / π)\")\n",
    "println(\"Number of accurate digits = $(-log10(acc / π))\")"
   ]
  }
 ],
 "metadata": {
  "kernelspec": {
   "display_name": "Julia 1.11.3",
   "language": "julia",
   "name": "julia-1.11"
  },
  "language_info": {
   "file_extension": ".jl",
   "mimetype": "application/julia",
   "name": "julia",
   "version": "1.11.3"
  }
 },
 "nbformat": 4,
 "nbformat_minor": 2
}
